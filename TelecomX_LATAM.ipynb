{
  "cells": [
    {
      "cell_type": "markdown",
      "metadata": {
        "id": "view-in-github",
        "colab_type": "text"
      },
      "source": [
        "<a href=\"https://colab.research.google.com/github/Emmanuel2000x/TelecomX/blob/main/TelecomX_LATAM.ipynb\" target=\"_parent\"><img src=\"https://colab.research.google.com/assets/colab-badge.svg\" alt=\"Open In Colab\"/></a>"
      ]
    },
    {
      "cell_type": "markdown",
      "metadata": {
        "id": "4foVEKhrlqcH"
      },
      "source": [
        "#📌 Extracción"
      ]
    },
    {
      "cell_type": "code",
      "execution_count": 406,
      "metadata": {
        "id": "8sPJZHvMYITR"
      },
      "outputs": [],
      "source": [
        "#Se importan las librerias necesarias para el proyecto\n",
        "import pandas as pd\n",
        "import numpy as np"
      ]
    },
    {
      "cell_type": "code",
      "source": [
        "#Se le la URL del .json con la informacion que otorga la API\n",
        "url = \"https://raw.githubusercontent.com/ingridcristh/challenge2-data-science-LATAM/refs/heads/main/TelecomX_Data.json\"\n",
        "datos_json = pd.read_json(url)"
      ],
      "metadata": {
        "id": "lT090-gsY1Km"
      },
      "execution_count": 407,
      "outputs": []
    },
    {
      "cell_type": "code",
      "source": [
        "#El DF original cuenta 7267 registros con 6 columnas |customerID|Churn|customer|phone|internet |account|\n",
        "print(datos_json.shape)\n",
        "print(datos_json.head(5))"
      ],
      "metadata": {
        "colab": {
          "base_uri": "https://localhost:8080/"
        },
        "id": "jQhwOTk6aXmY",
        "outputId": "cf887753-c22e-4f40-98af-de7aed774875"
      },
      "execution_count": 408,
      "outputs": [
        {
          "output_type": "stream",
          "name": "stdout",
          "text": [
            "(7267, 6)\n",
            "   customerID Churn                                           customer  \\\n",
            "0  0002-ORFBO    No  {'gender': 'Female', 'SeniorCitizen': 0, 'Part...   \n",
            "1  0003-MKNFE    No  {'gender': 'Male', 'SeniorCitizen': 0, 'Partne...   \n",
            "2  0004-TLHLJ   Yes  {'gender': 'Male', 'SeniorCitizen': 0, 'Partne...   \n",
            "3  0011-IGKFF   Yes  {'gender': 'Male', 'SeniorCitizen': 1, 'Partne...   \n",
            "4  0013-EXCHZ   Yes  {'gender': 'Female', 'SeniorCitizen': 1, 'Part...   \n",
            "\n",
            "                                             phone  \\\n",
            "0   {'PhoneService': 'Yes', 'MultipleLines': 'No'}   \n",
            "1  {'PhoneService': 'Yes', 'MultipleLines': 'Yes'}   \n",
            "2   {'PhoneService': 'Yes', 'MultipleLines': 'No'}   \n",
            "3   {'PhoneService': 'Yes', 'MultipleLines': 'No'}   \n",
            "4   {'PhoneService': 'Yes', 'MultipleLines': 'No'}   \n",
            "\n",
            "                                            internet  \\\n",
            "0  {'InternetService': 'DSL', 'OnlineSecurity': '...   \n",
            "1  {'InternetService': 'DSL', 'OnlineSecurity': '...   \n",
            "2  {'InternetService': 'Fiber optic', 'OnlineSecu...   \n",
            "3  {'InternetService': 'Fiber optic', 'OnlineSecu...   \n",
            "4  {'InternetService': 'Fiber optic', 'OnlineSecu...   \n",
            "\n",
            "                                             account  \n",
            "0  {'Contract': 'One year', 'PaperlessBilling': '...  \n",
            "1  {'Contract': 'Month-to-month', 'PaperlessBilli...  \n",
            "2  {'Contract': 'Month-to-month', 'PaperlessBilli...  \n",
            "3  {'Contract': 'Month-to-month', 'PaperlessBilli...  \n",
            "4  {'Contract': 'Month-to-month', 'PaperlessBilli...  \n"
          ]
        }
      ]
    },
    {
      "cell_type": "code",
      "source": [
        "#Creamos una funcion encargada de normalizar todas las columnas anidadas\n",
        "def normalize_nested_df(df: pd.DataFrame) -> pd.DataFrame:\n",
        "  \"\"\"\n",
        "  Normaliza de forma recursiva las columnas anidadas de un DF\n",
        "  Args:\n",
        "    df (pd.DataFrame): Input DataFrame with potential nested structures.\n",
        "  Returns:\n",
        "    pd.DataFrame: Fully normalized (flattened) DataFrame.\n",
        "  \"\"\"\n",
        "  df = df.copy()\n",
        "  new_columns = []\n",
        "  for col in df.columns:\n",
        "\n",
        "    if df[col].apply(lambda x: isinstance(x, dict)).any():\n",
        "      # Expand dictionaries into separate columns\n",
        "      expanded = pd.json_normalize(df[col]).add_prefix(f'{col}_')\n",
        "      df = df.drop(columns=[col])\n",
        "      df = pd.concat([df, expanded], axis=1)\n",
        "      return normalize_nested_df(df)  # Recursively normalize\n",
        "    else:\n",
        "      new_columns.append(col)\n",
        "\n",
        "  return df\n"
      ],
      "metadata": {
        "id": "6Cs_iNa6cHPY"
      },
      "execution_count": 409,
      "outputs": []
    },
    {
      "cell_type": "code",
      "source": [
        "#Normalizacion del DF utilizando la funcion creada\n",
        "flatt_DF = normalize_nested_df(datos_json)\n",
        "#Ahora tenemos 21 columnas y ninguna con info anidada\n",
        "print(flatt_DF.shape)\n",
        "print(flatt_DF.head(3))"
      ],
      "metadata": {
        "colab": {
          "base_uri": "https://localhost:8080/"
        },
        "id": "fOlbfTEjcTzr",
        "outputId": "0c35c839-d2bf-4a89-b2cf-6585bbbbd02f"
      },
      "execution_count": 410,
      "outputs": [
        {
          "output_type": "stream",
          "name": "stdout",
          "text": [
            "(7267, 21)\n",
            "   customerID Churn customer_gender  customer_SeniorCitizen customer_Partner  \\\n",
            "0  0002-ORFBO    No          Female                       0              Yes   \n",
            "1  0003-MKNFE    No            Male                       0               No   \n",
            "2  0004-TLHLJ   Yes            Male                       0               No   \n",
            "\n",
            "  customer_Dependents  customer_tenure phone_PhoneService phone_MultipleLines  \\\n",
            "0                 Yes                9                Yes                  No   \n",
            "1                  No                9                Yes                 Yes   \n",
            "2                  No                4                Yes                  No   \n",
            "\n",
            "  internet_InternetService  ... internet_OnlineBackup  \\\n",
            "0                      DSL  ...                   Yes   \n",
            "1                      DSL  ...                    No   \n",
            "2              Fiber optic  ...                    No   \n",
            "\n",
            "  internet_DeviceProtection internet_TechSupport internet_StreamingTV  \\\n",
            "0                        No                  Yes                  Yes   \n",
            "1                        No                   No                   No   \n",
            "2                       Yes                   No                   No   \n",
            "\n",
            "  internet_StreamingMovies account_Contract account_PaperlessBilling  \\\n",
            "0                       No         One year                      Yes   \n",
            "1                      Yes   Month-to-month                       No   \n",
            "2                       No   Month-to-month                      Yes   \n",
            "\n",
            "  account_PaymentMethod account_Charges.Monthly  account_Charges.Total  \n",
            "0          Mailed check                    65.6                  593.3  \n",
            "1          Mailed check                    59.9                  542.4  \n",
            "2      Electronic check                    73.9                 280.85  \n",
            "\n",
            "[3 rows x 21 columns]\n"
          ]
        }
      ]
    },
    {
      "cell_type": "markdown",
      "source": [
        "##Lista de columnas y su clasificacion"
      ],
      "metadata": {
        "id": "UFNze0zhWakL"
      }
    },
    {
      "cell_type": "code",
      "source": [
        "#Lista que almacena las Variables/Columnas que contiene el DF\n",
        "Datos_dic = list(flatt_DF.columns)\n",
        "print(Datos_dic)"
      ],
      "metadata": {
        "colab": {
          "base_uri": "https://localhost:8080/"
        },
        "id": "9XL0nUhyoFfe",
        "outputId": "ea7094e6-f61c-4a71-a0ce-687a1cb4b455"
      },
      "execution_count": 411,
      "outputs": [
        {
          "output_type": "stream",
          "name": "stdout",
          "text": [
            "['customerID', 'Churn', 'customer_gender', 'customer_SeniorCitizen', 'customer_Partner', 'customer_Dependents', 'customer_tenure', 'phone_PhoneService', 'phone_MultipleLines', 'internet_InternetService', 'internet_OnlineSecurity', 'internet_OnlineBackup', 'internet_DeviceProtection', 'internet_TechSupport', 'internet_StreamingTV', 'internet_StreamingMovies', 'account_Contract', 'account_PaperlessBilling', 'account_PaymentMethod', 'account_Charges.Monthly', 'account_Charges.Total']\n"
          ]
        }
      ]
    },
    {
      "cell_type": "code",
      "source": [
        "#Clasificamos el tipo de dato de cada columna\n",
        "Col_Bol = ['Churn', 'customer_SeniorCitizen','customer_Partner',\n",
        "        'customer_Dependents','phone_PhoneService', 'phone_MultipleLines',\n",
        "        'internet_OnlineSecurity', 'internet_OnlineBackup','internet_DeviceProtection', 'internet_TechSupport',\n",
        "        'internet_StreamingTV', 'internet_StreamingMovies','account_PaperlessBilling']\n",
        "Col_Str = ['customerID','customer_gender', 'internet_InternetService',\n",
        "           'account_Contract','account_PaymentMethod']\n",
        "Col_Flo = ['account_Charges.Monthly', 'account_Charges.Total']\n",
        "Col_Int = ['customer_tenure']"
      ],
      "metadata": {
        "id": "ngQsdipTuKrW"
      },
      "execution_count": 412,
      "outputs": []
    },
    {
      "cell_type": "markdown",
      "metadata": {
        "id": "1lSZP8zmmGZu"
      },
      "source": [
        "#🔧 Transformación"
      ]
    },
    {
      "cell_type": "markdown",
      "source": [
        "## Conocemos el tipo de dato con el que viene cada columna\n"
      ],
      "metadata": {
        "id": "G40sTXNUrfIG"
      }
    },
    {
      "cell_type": "code",
      "execution_count": 413,
      "metadata": {
        "id": "bsm-WTLjmHvt",
        "colab": {
          "base_uri": "https://localhost:8080/"
        },
        "outputId": "f13ffb15-9452-4a07-9098-b521465ceb9d"
      },
      "outputs": [
        {
          "output_type": "stream",
          "name": "stdout",
          "text": [
            "<class 'pandas.core.frame.DataFrame'>\n",
            "RangeIndex: 7267 entries, 0 to 7266\n",
            "Data columns (total 21 columns):\n",
            " #   Column                     Non-Null Count  Dtype  \n",
            "---  ------                     --------------  -----  \n",
            " 0   customerID                 7267 non-null   object \n",
            " 1   Churn                      7267 non-null   object \n",
            " 2   customer_gender            7267 non-null   object \n",
            " 3   customer_SeniorCitizen     7267 non-null   int64  \n",
            " 4   customer_Partner           7267 non-null   object \n",
            " 5   customer_Dependents        7267 non-null   object \n",
            " 6   customer_tenure            7267 non-null   int64  \n",
            " 7   phone_PhoneService         7267 non-null   object \n",
            " 8   phone_MultipleLines        7267 non-null   object \n",
            " 9   internet_InternetService   7267 non-null   object \n",
            " 10  internet_OnlineSecurity    7267 non-null   object \n",
            " 11  internet_OnlineBackup      7267 non-null   object \n",
            " 12  internet_DeviceProtection  7267 non-null   object \n",
            " 13  internet_TechSupport       7267 non-null   object \n",
            " 14  internet_StreamingTV       7267 non-null   object \n",
            " 15  internet_StreamingMovies   7267 non-null   object \n",
            " 16  account_Contract           7267 non-null   object \n",
            " 17  account_PaperlessBilling   7267 non-null   object \n",
            " 18  account_PaymentMethod      7267 non-null   object \n",
            " 19  account_Charges.Monthly    7267 non-null   float64\n",
            " 20  account_Charges.Total      7267 non-null   object \n",
            "dtypes: float64(1), int64(2), object(18)\n",
            "memory usage: 1.2+ MB\n"
          ]
        }
      ],
      "source": [
        "#Exploramos las columnas del data set y verificamos los tipos de datos\n",
        "flatt_DF.info()"
      ]
    },
    {
      "cell_type": "code",
      "source": [
        "flatt_DF.dtypes"
      ],
      "metadata": {
        "colab": {
          "base_uri": "https://localhost:8080/",
          "height": 742
        },
        "id": "8R7kSuCyrUsk",
        "outputId": "ec15174e-f165-4f1f-92b5-193996944c33"
      },
      "execution_count": 414,
      "outputs": [
        {
          "output_type": "execute_result",
          "data": {
            "text/plain": [
              "customerID                    object\n",
              "Churn                         object\n",
              "customer_gender               object\n",
              "customer_SeniorCitizen         int64\n",
              "customer_Partner              object\n",
              "customer_Dependents           object\n",
              "customer_tenure                int64\n",
              "phone_PhoneService            object\n",
              "phone_MultipleLines           object\n",
              "internet_InternetService      object\n",
              "internet_OnlineSecurity       object\n",
              "internet_OnlineBackup         object\n",
              "internet_DeviceProtection     object\n",
              "internet_TechSupport          object\n",
              "internet_StreamingTV          object\n",
              "internet_StreamingMovies      object\n",
              "account_Contract              object\n",
              "account_PaperlessBilling      object\n",
              "account_PaymentMethod         object\n",
              "account_Charges.Monthly      float64\n",
              "account_Charges.Total         object\n",
              "dtype: object"
            ],
            "text/html": [
              "<div>\n",
              "<style scoped>\n",
              "    .dataframe tbody tr th:only-of-type {\n",
              "        vertical-align: middle;\n",
              "    }\n",
              "\n",
              "    .dataframe tbody tr th {\n",
              "        vertical-align: top;\n",
              "    }\n",
              "\n",
              "    .dataframe thead th {\n",
              "        text-align: right;\n",
              "    }\n",
              "</style>\n",
              "<table border=\"1\" class=\"dataframe\">\n",
              "  <thead>\n",
              "    <tr style=\"text-align: right;\">\n",
              "      <th></th>\n",
              "      <th>0</th>\n",
              "    </tr>\n",
              "  </thead>\n",
              "  <tbody>\n",
              "    <tr>\n",
              "      <th>customerID</th>\n",
              "      <td>object</td>\n",
              "    </tr>\n",
              "    <tr>\n",
              "      <th>Churn</th>\n",
              "      <td>object</td>\n",
              "    </tr>\n",
              "    <tr>\n",
              "      <th>customer_gender</th>\n",
              "      <td>object</td>\n",
              "    </tr>\n",
              "    <tr>\n",
              "      <th>customer_SeniorCitizen</th>\n",
              "      <td>int64</td>\n",
              "    </tr>\n",
              "    <tr>\n",
              "      <th>customer_Partner</th>\n",
              "      <td>object</td>\n",
              "    </tr>\n",
              "    <tr>\n",
              "      <th>customer_Dependents</th>\n",
              "      <td>object</td>\n",
              "    </tr>\n",
              "    <tr>\n",
              "      <th>customer_tenure</th>\n",
              "      <td>int64</td>\n",
              "    </tr>\n",
              "    <tr>\n",
              "      <th>phone_PhoneService</th>\n",
              "      <td>object</td>\n",
              "    </tr>\n",
              "    <tr>\n",
              "      <th>phone_MultipleLines</th>\n",
              "      <td>object</td>\n",
              "    </tr>\n",
              "    <tr>\n",
              "      <th>internet_InternetService</th>\n",
              "      <td>object</td>\n",
              "    </tr>\n",
              "    <tr>\n",
              "      <th>internet_OnlineSecurity</th>\n",
              "      <td>object</td>\n",
              "    </tr>\n",
              "    <tr>\n",
              "      <th>internet_OnlineBackup</th>\n",
              "      <td>object</td>\n",
              "    </tr>\n",
              "    <tr>\n",
              "      <th>internet_DeviceProtection</th>\n",
              "      <td>object</td>\n",
              "    </tr>\n",
              "    <tr>\n",
              "      <th>internet_TechSupport</th>\n",
              "      <td>object</td>\n",
              "    </tr>\n",
              "    <tr>\n",
              "      <th>internet_StreamingTV</th>\n",
              "      <td>object</td>\n",
              "    </tr>\n",
              "    <tr>\n",
              "      <th>internet_StreamingMovies</th>\n",
              "      <td>object</td>\n",
              "    </tr>\n",
              "    <tr>\n",
              "      <th>account_Contract</th>\n",
              "      <td>object</td>\n",
              "    </tr>\n",
              "    <tr>\n",
              "      <th>account_PaperlessBilling</th>\n",
              "      <td>object</td>\n",
              "    </tr>\n",
              "    <tr>\n",
              "      <th>account_PaymentMethod</th>\n",
              "      <td>object</td>\n",
              "    </tr>\n",
              "    <tr>\n",
              "      <th>account_Charges.Monthly</th>\n",
              "      <td>float64</td>\n",
              "    </tr>\n",
              "    <tr>\n",
              "      <th>account_Charges.Total</th>\n",
              "      <td>object</td>\n",
              "    </tr>\n",
              "  </tbody>\n",
              "</table>\n",
              "</div><br><label><b>dtype:</b> object</label>"
            ]
          },
          "metadata": {},
          "execution_count": 414
        }
      ]
    },
    {
      "cell_type": "code",
      "source": [
        "#De origen el data set parece no contener errores nulos\n",
        "print(flatt_DF.isna().sum())"
      ],
      "metadata": {
        "colab": {
          "base_uri": "https://localhost:8080/"
        },
        "id": "zE12Wgz4tg_R",
        "outputId": "c3ffff6b-0fb4-4b6a-a85a-66102b9fab4e"
      },
      "execution_count": 415,
      "outputs": [
        {
          "output_type": "stream",
          "name": "stdout",
          "text": [
            "customerID                   0\n",
            "Churn                        0\n",
            "customer_gender              0\n",
            "customer_SeniorCitizen       0\n",
            "customer_Partner             0\n",
            "customer_Dependents          0\n",
            "customer_tenure              0\n",
            "phone_PhoneService           0\n",
            "phone_MultipleLines          0\n",
            "internet_InternetService     0\n",
            "internet_OnlineSecurity      0\n",
            "internet_OnlineBackup        0\n",
            "internet_DeviceProtection    0\n",
            "internet_TechSupport         0\n",
            "internet_StreamingTV         0\n",
            "internet_StreamingMovies     0\n",
            "account_Contract             0\n",
            "account_PaperlessBilling     0\n",
            "account_PaymentMethod        0\n",
            "account_Charges.Monthly      0\n",
            "account_Charges.Total        0\n",
            "dtype: int64\n"
          ]
        }
      ]
    },
    {
      "cell_type": "code",
      "source": [
        "#Replace de especios en blanco (e.g., '', ' ', '  ') with NaN\n",
        "mod_DF = flatt_DF.replace(r'^\\s*$', np.nan, regex=True)\n",
        "#Lista de los indices donde hay valores NaN\n",
        "error_indices = mod_DF[mod_DF.isna().any(axis=1)].index.tolist()"
      ],
      "metadata": {
        "id": "ijjRWtG4qgcj"
      },
      "execution_count": 416,
      "outputs": []
    },
    {
      "cell_type": "code",
      "source": [
        "#Una vez transformados los datos detectamos lo siguiente\n",
        "print(mod_DF.isna().sum())\n",
        "print(f'Se encontraron {len(error_indices)} registros no validos,\\nRepresentan el {100*len(error_indices)/len(flatt_DF.index):.2f}% del total')"
      ],
      "metadata": {
        "colab": {
          "base_uri": "https://localhost:8080/"
        },
        "id": "kv2I5g6xsawW",
        "outputId": "38ad3f9c-69dc-4cd3-8afa-ddfee2ebd365"
      },
      "execution_count": 417,
      "outputs": [
        {
          "output_type": "stream",
          "name": "stdout",
          "text": [
            "customerID                     0\n",
            "Churn                        224\n",
            "customer_gender                0\n",
            "customer_SeniorCitizen         0\n",
            "customer_Partner               0\n",
            "customer_Dependents            0\n",
            "customer_tenure                0\n",
            "phone_PhoneService             0\n",
            "phone_MultipleLines            0\n",
            "internet_InternetService       0\n",
            "internet_OnlineSecurity        0\n",
            "internet_OnlineBackup          0\n",
            "internet_DeviceProtection      0\n",
            "internet_TechSupport           0\n",
            "internet_StreamingTV           0\n",
            "internet_StreamingMovies       0\n",
            "account_Contract               0\n",
            "account_PaperlessBilling       0\n",
            "account_PaymentMethod          0\n",
            "account_Charges.Monthly        0\n",
            "account_Charges.Total         11\n",
            "dtype: int64\n",
            "Se encontraron 235 registros no validos,\n",
            "Representan el 3.23% del total\n"
          ]
        }
      ]
    },
    {
      "cell_type": "markdown",
      "source": [
        "##Eliminado de registros sin info"
      ],
      "metadata": {
        "id": "QzSAp1XvoDG1"
      }
    },
    {
      "cell_type": "code",
      "source": [
        "\"\"\"\n",
        "Dado que representan poca cantidad seran eliminados los registros\n",
        "creando un nuevo data frame el cual contendra la transformacion\n",
        "de la informacion\n",
        "\"\"\"\n",
        "mod_DF.dropna(inplace=True)\n",
        "mod_DF.reset_index(drop=True,inplace=True)\n",
        "print(mod_DF.shape)"
      ],
      "metadata": {
        "colab": {
          "base_uri": "https://localhost:8080/"
        },
        "id": "kEcdJptUqWju",
        "outputId": "7af68e7b-f72c-4898-b5e2-a9a7a6f6b199"
      },
      "execution_count": 418,
      "outputs": [
        {
          "output_type": "stream",
          "name": "stdout",
          "text": [
            "(7032, 21)\n"
          ]
        }
      ]
    },
    {
      "cell_type": "code",
      "source": [
        "#Comprobacion de la columna customerID\n",
        "#Aseguramos el formato de los ID\n",
        "mod_DF['customerID'] = mod_DF['customerID'].astype(str).str.upper()\n",
        "#Buscamos registros duplicados\n",
        "duplicados = mod_DF['customerID'].duplicated().any()\n",
        "if not duplicados:\n",
        "    print(\"No hay duplicados.\")\n",
        "else:\n",
        "    print(\"Hay duplicados.\")"
      ],
      "metadata": {
        "colab": {
          "base_uri": "https://localhost:8080/"
        },
        "id": "vuCZaAzxMBnp",
        "outputId": "9274d5d4-d2d6-417b-bd9a-047851478d17"
      },
      "execution_count": 419,
      "outputs": [
        {
          "output_type": "stream",
          "name": "stdout",
          "text": [
            "No hay duplicados.\n"
          ]
        }
      ]
    },
    {
      "cell_type": "code",
      "source": [
        "#Obvservamos los valores que contienen las otras columnas que no son numeros\n",
        "for col in Datos_dic[1:-2]:\n",
        "    print(f\"Valores en {col}:\")\n",
        "    print(mod_DF[col].astype(str).unique())"
      ],
      "metadata": {
        "colab": {
          "base_uri": "https://localhost:8080/"
        },
        "id": "C5qgY1FstsBM",
        "outputId": "cd928f50-fd62-4294-b315-14e7a2a8f02f"
      },
      "execution_count": 420,
      "outputs": [
        {
          "output_type": "stream",
          "name": "stdout",
          "text": [
            "Valores en Churn:\n",
            "['No' 'Yes']\n",
            "Valores en customer_gender:\n",
            "['Female' 'Male']\n",
            "Valores en customer_SeniorCitizen:\n",
            "['0' '1']\n",
            "Valores en customer_Partner:\n",
            "['Yes' 'No']\n",
            "Valores en customer_Dependents:\n",
            "['Yes' 'No']\n",
            "Valores en customer_tenure:\n",
            "['9' '4' '13' '3' '71' '63' '7' '65' '54' '72' '5' '56' '34' '1' '45' '50'\n",
            " '23' '55' '26' '69' '37' '49' '66' '67' '20' '43' '59' '12' '27' '2' '25'\n",
            " '29' '14' '35' '64' '39' '40' '11' '6' '30' '70' '57' '58' '16' '32' '33'\n",
            " '10' '21' '61' '15' '44' '22' '24' '19' '47' '62' '46' '52' '8' '60' '48'\n",
            " '28' '41' '53' '68' '31' '36' '17' '18' '51' '38' '42']\n",
            "Valores en phone_PhoneService:\n",
            "['Yes' 'No']\n",
            "Valores en phone_MultipleLines:\n",
            "['No' 'Yes' 'No phone service']\n",
            "Valores en internet_InternetService:\n",
            "['DSL' 'Fiber optic' 'No']\n",
            "Valores en internet_OnlineSecurity:\n",
            "['No' 'Yes' 'No internet service']\n",
            "Valores en internet_OnlineBackup:\n",
            "['Yes' 'No' 'No internet service']\n",
            "Valores en internet_DeviceProtection:\n",
            "['No' 'Yes' 'No internet service']\n",
            "Valores en internet_TechSupport:\n",
            "['Yes' 'No' 'No internet service']\n",
            "Valores en internet_StreamingTV:\n",
            "['Yes' 'No' 'No internet service']\n",
            "Valores en internet_StreamingMovies:\n",
            "['No' 'Yes' 'No internet service']\n",
            "Valores en account_Contract:\n",
            "['One year' 'Month-to-month' 'Two year']\n",
            "Valores en account_PaperlessBilling:\n",
            "['Yes' 'No']\n",
            "Valores en account_PaymentMethod:\n",
            "['Mailed check' 'Electronic check' 'Credit card (automatic)'\n",
            " 'Bank transfer (automatic)']\n"
          ]
        }
      ]
    },
    {
      "cell_type": "markdown",
      "source": [
        "Con el analisis anterior encontramos que en la columna Churn hay registros en blanco, ademas en las columnas de servicios se presenta el \"No\", \"No phone service\" y \"No internet service\""
      ],
      "metadata": {
        "id": "CGavz2b4UXNn"
      }
    },
    {
      "cell_type": "code",
      "source": [
        "#convirtiendo el tipo de dato a float\n",
        "mod_DF[Col_Flo] = mod_DF[Col_Flo].apply(pd.to_numeric, errors='coerce')"
      ],
      "metadata": {
        "id": "VA7noQJABJk8"
      },
      "execution_count": 421,
      "outputs": []
    },
    {
      "cell_type": "code",
      "source": [
        "#Reemplazamos \"Yes\" y \"No\" por 1 y 0\n",
        "mod_DF[Col_Bol] = mod_DF[Col_Bol].apply(lambda x: x.replace({\n",
        "    'No': '0', 'No internet service': '0', 'No phone service': '0'})\n",
        "    .replace('Yes','1'))\n",
        "#Cambiamos el tipo de dato a booleano\n",
        "mod_DF[Col_Bol] = mod_DF[Col_Bol].astype(int).astype(bool)"
      ],
      "metadata": {
        "id": "O78SeD7_9QQk"
      },
      "execution_count": 422,
      "outputs": []
    },
    {
      "cell_type": "code",
      "source": [
        "#Cambiamos el tipo de dato de las columnas de texto\n",
        "mod_DF[Col_Str] = mod_DF[Col_Str].astype('string')"
      ],
      "metadata": {
        "id": "2-OBKbA54Sws"
      },
      "execution_count": 423,
      "outputs": []
    },
    {
      "cell_type": "code",
      "source": [
        "mod_DF.info()"
      ],
      "metadata": {
        "colab": {
          "base_uri": "https://localhost:8080/"
        },
        "id": "dyopgbCsWNPP",
        "outputId": "9edd7e10-0573-48ff-dd11-d5b9f60244a4"
      },
      "execution_count": 424,
      "outputs": [
        {
          "output_type": "stream",
          "name": "stdout",
          "text": [
            "<class 'pandas.core.frame.DataFrame'>\n",
            "RangeIndex: 7032 entries, 0 to 7031\n",
            "Data columns (total 21 columns):\n",
            " #   Column                     Non-Null Count  Dtype  \n",
            "---  ------                     --------------  -----  \n",
            " 0   customerID                 7032 non-null   string \n",
            " 1   Churn                      7032 non-null   bool   \n",
            " 2   customer_gender            7032 non-null   string \n",
            " 3   customer_SeniorCitizen     7032 non-null   bool   \n",
            " 4   customer_Partner           7032 non-null   bool   \n",
            " 5   customer_Dependents        7032 non-null   bool   \n",
            " 6   customer_tenure            7032 non-null   int64  \n",
            " 7   phone_PhoneService         7032 non-null   bool   \n",
            " 8   phone_MultipleLines        7032 non-null   bool   \n",
            " 9   internet_InternetService   7032 non-null   string \n",
            " 10  internet_OnlineSecurity    7032 non-null   bool   \n",
            " 11  internet_OnlineBackup      7032 non-null   bool   \n",
            " 12  internet_DeviceProtection  7032 non-null   bool   \n",
            " 13  internet_TechSupport       7032 non-null   bool   \n",
            " 14  internet_StreamingTV       7032 non-null   bool   \n",
            " 15  internet_StreamingMovies   7032 non-null   bool   \n",
            " 16  account_Contract           7032 non-null   string \n",
            " 17  account_PaperlessBilling   7032 non-null   bool   \n",
            " 18  account_PaymentMethod      7032 non-null   string \n",
            " 19  account_Charges.Monthly    7032 non-null   float64\n",
            " 20  account_Charges.Total      7032 non-null   float64\n",
            "dtypes: bool(13), float64(2), int64(1), string(5)\n",
            "memory usage: 528.9 KB\n"
          ]
        }
      ]
    },
    {
      "cell_type": "markdown",
      "metadata": {
        "id": "6XnTC2NTmMRL"
      },
      "source": [
        "#📊 Carga y análisis"
      ]
    },
    {
      "cell_type": "code",
      "execution_count": 425,
      "metadata": {
        "id": "1jgUnLqTmPdd",
        "colab": {
          "base_uri": "https://localhost:8080/",
          "height": 325
        },
        "outputId": "173c1e63-bfa3-4dfc-afde-5deaf458f34b"
      },
      "outputs": [
        {
          "output_type": "execute_result",
          "data": {
            "text/plain": [
              "      customerID Churn customer_gender  customer_SeniorCitizen  \\\n",
              "4110  5639-NTUPK    No            Male                       0   \n",
              "1066  1493-AMTIE   Yes            Male                       0   \n",
              "5121  6994-FGRHH    No            Male                       0   \n",
              "5168  7054-ENNGU    No          Female                       0   \n",
              "4064  5566-SOEZD    No            Male                       0   \n",
              "\n",
              "     customer_Partner customer_Dependents  customer_tenure phone_PhoneService  \\\n",
              "4110               No                 Yes               13                Yes   \n",
              "1066               No                  No                1                Yes   \n",
              "5121              Yes                 Yes               70                Yes   \n",
              "5168              Yes                  No                9                Yes   \n",
              "4064              Yes                 Yes               27                Yes   \n",
              "\n",
              "     phone_MultipleLines internet_InternetService  ... internet_OnlineBackup  \\\n",
              "4110                  No                      DSL  ...                    No   \n",
              "1066                  No                       No  ...   No internet service   \n",
              "5121                  No              Fiber optic  ...                   Yes   \n",
              "5168                  No                      DSL  ...                   Yes   \n",
              "4064                  No              Fiber optic  ...                   Yes   \n",
              "\n",
              "     internet_DeviceProtection internet_TechSupport internet_StreamingTV  \\\n",
              "4110                        No                   No                   No   \n",
              "1066       No internet service  No internet service  No internet service   \n",
              "5121                       Yes                  Yes                  Yes   \n",
              "5168                        No                   No                   No   \n",
              "4064                        No                   No                   No   \n",
              "\n",
              "     internet_StreamingMovies account_Contract account_PaperlessBilling  \\\n",
              "4110                       No   Month-to-month                      Yes   \n",
              "1066      No internet service   Month-to-month                      Yes   \n",
              "5121                      Yes         One year                      Yes   \n",
              "5168                       No   Month-to-month                       No   \n",
              "4064                       No         One year                      Yes   \n",
              "\n",
              "          account_PaymentMethod account_Charges.Monthly  account_Charges.Total  \n",
              "4110    Credit card (automatic)                   52.10                 670.65  \n",
              "1066  Bank transfer (automatic)                   20.20                   20.2  \n",
              "5121           Electronic check                  106.15                 7475.1  \n",
              "5168               Mailed check                   50.85                  466.6  \n",
              "4064    Credit card (automatic)                   80.65                2209.75  \n",
              "\n",
              "[5 rows x 21 columns]"
            ],
            "text/html": [
              "\n",
              "  <div id=\"df-d21ef963-1e3e-4820-b029-26442a3fcb70\" class=\"colab-df-container\">\n",
              "    <div>\n",
              "<style scoped>\n",
              "    .dataframe tbody tr th:only-of-type {\n",
              "        vertical-align: middle;\n",
              "    }\n",
              "\n",
              "    .dataframe tbody tr th {\n",
              "        vertical-align: top;\n",
              "    }\n",
              "\n",
              "    .dataframe thead th {\n",
              "        text-align: right;\n",
              "    }\n",
              "</style>\n",
              "<table border=\"1\" class=\"dataframe\">\n",
              "  <thead>\n",
              "    <tr style=\"text-align: right;\">\n",
              "      <th></th>\n",
              "      <th>customerID</th>\n",
              "      <th>Churn</th>\n",
              "      <th>customer_gender</th>\n",
              "      <th>customer_SeniorCitizen</th>\n",
              "      <th>customer_Partner</th>\n",
              "      <th>customer_Dependents</th>\n",
              "      <th>customer_tenure</th>\n",
              "      <th>phone_PhoneService</th>\n",
              "      <th>phone_MultipleLines</th>\n",
              "      <th>internet_InternetService</th>\n",
              "      <th>...</th>\n",
              "      <th>internet_OnlineBackup</th>\n",
              "      <th>internet_DeviceProtection</th>\n",
              "      <th>internet_TechSupport</th>\n",
              "      <th>internet_StreamingTV</th>\n",
              "      <th>internet_StreamingMovies</th>\n",
              "      <th>account_Contract</th>\n",
              "      <th>account_PaperlessBilling</th>\n",
              "      <th>account_PaymentMethod</th>\n",
              "      <th>account_Charges.Monthly</th>\n",
              "      <th>account_Charges.Total</th>\n",
              "    </tr>\n",
              "  </thead>\n",
              "  <tbody>\n",
              "    <tr>\n",
              "      <th>4110</th>\n",
              "      <td>5639-NTUPK</td>\n",
              "      <td>No</td>\n",
              "      <td>Male</td>\n",
              "      <td>0</td>\n",
              "      <td>No</td>\n",
              "      <td>Yes</td>\n",
              "      <td>13</td>\n",
              "      <td>Yes</td>\n",
              "      <td>No</td>\n",
              "      <td>DSL</td>\n",
              "      <td>...</td>\n",
              "      <td>No</td>\n",
              "      <td>No</td>\n",
              "      <td>No</td>\n",
              "      <td>No</td>\n",
              "      <td>No</td>\n",
              "      <td>Month-to-month</td>\n",
              "      <td>Yes</td>\n",
              "      <td>Credit card (automatic)</td>\n",
              "      <td>52.10</td>\n",
              "      <td>670.65</td>\n",
              "    </tr>\n",
              "    <tr>\n",
              "      <th>1066</th>\n",
              "      <td>1493-AMTIE</td>\n",
              "      <td>Yes</td>\n",
              "      <td>Male</td>\n",
              "      <td>0</td>\n",
              "      <td>No</td>\n",
              "      <td>No</td>\n",
              "      <td>1</td>\n",
              "      <td>Yes</td>\n",
              "      <td>No</td>\n",
              "      <td>No</td>\n",
              "      <td>...</td>\n",
              "      <td>No internet service</td>\n",
              "      <td>No internet service</td>\n",
              "      <td>No internet service</td>\n",
              "      <td>No internet service</td>\n",
              "      <td>No internet service</td>\n",
              "      <td>Month-to-month</td>\n",
              "      <td>Yes</td>\n",
              "      <td>Bank transfer (automatic)</td>\n",
              "      <td>20.20</td>\n",
              "      <td>20.2</td>\n",
              "    </tr>\n",
              "    <tr>\n",
              "      <th>5121</th>\n",
              "      <td>6994-FGRHH</td>\n",
              "      <td>No</td>\n",
              "      <td>Male</td>\n",
              "      <td>0</td>\n",
              "      <td>Yes</td>\n",
              "      <td>Yes</td>\n",
              "      <td>70</td>\n",
              "      <td>Yes</td>\n",
              "      <td>No</td>\n",
              "      <td>Fiber optic</td>\n",
              "      <td>...</td>\n",
              "      <td>Yes</td>\n",
              "      <td>Yes</td>\n",
              "      <td>Yes</td>\n",
              "      <td>Yes</td>\n",
              "      <td>Yes</td>\n",
              "      <td>One year</td>\n",
              "      <td>Yes</td>\n",
              "      <td>Electronic check</td>\n",
              "      <td>106.15</td>\n",
              "      <td>7475.1</td>\n",
              "    </tr>\n",
              "    <tr>\n",
              "      <th>5168</th>\n",
              "      <td>7054-ENNGU</td>\n",
              "      <td>No</td>\n",
              "      <td>Female</td>\n",
              "      <td>0</td>\n",
              "      <td>Yes</td>\n",
              "      <td>No</td>\n",
              "      <td>9</td>\n",
              "      <td>Yes</td>\n",
              "      <td>No</td>\n",
              "      <td>DSL</td>\n",
              "      <td>...</td>\n",
              "      <td>Yes</td>\n",
              "      <td>No</td>\n",
              "      <td>No</td>\n",
              "      <td>No</td>\n",
              "      <td>No</td>\n",
              "      <td>Month-to-month</td>\n",
              "      <td>No</td>\n",
              "      <td>Mailed check</td>\n",
              "      <td>50.85</td>\n",
              "      <td>466.6</td>\n",
              "    </tr>\n",
              "    <tr>\n",
              "      <th>4064</th>\n",
              "      <td>5566-SOEZD</td>\n",
              "      <td>No</td>\n",
              "      <td>Male</td>\n",
              "      <td>0</td>\n",
              "      <td>Yes</td>\n",
              "      <td>Yes</td>\n",
              "      <td>27</td>\n",
              "      <td>Yes</td>\n",
              "      <td>No</td>\n",
              "      <td>Fiber optic</td>\n",
              "      <td>...</td>\n",
              "      <td>Yes</td>\n",
              "      <td>No</td>\n",
              "      <td>No</td>\n",
              "      <td>No</td>\n",
              "      <td>No</td>\n",
              "      <td>One year</td>\n",
              "      <td>Yes</td>\n",
              "      <td>Credit card (automatic)</td>\n",
              "      <td>80.65</td>\n",
              "      <td>2209.75</td>\n",
              "    </tr>\n",
              "  </tbody>\n",
              "</table>\n",
              "<p>5 rows × 21 columns</p>\n",
              "</div>\n",
              "    <div class=\"colab-df-buttons\">\n",
              "\n",
              "  <div class=\"colab-df-container\">\n",
              "    <button class=\"colab-df-convert\" onclick=\"convertToInteractive('df-d21ef963-1e3e-4820-b029-26442a3fcb70')\"\n",
              "            title=\"Convert this dataframe to an interactive table.\"\n",
              "            style=\"display:none;\">\n",
              "\n",
              "  <svg xmlns=\"http://www.w3.org/2000/svg\" height=\"24px\" viewBox=\"0 -960 960 960\">\n",
              "    <path d=\"M120-120v-720h720v720H120Zm60-500h600v-160H180v160Zm220 220h160v-160H400v160Zm0 220h160v-160H400v160ZM180-400h160v-160H180v160Zm440 0h160v-160H620v160ZM180-180h160v-160H180v160Zm440 0h160v-160H620v160Z\"/>\n",
              "  </svg>\n",
              "    </button>\n",
              "\n",
              "  <style>\n",
              "    .colab-df-container {\n",
              "      display:flex;\n",
              "      gap: 12px;\n",
              "    }\n",
              "\n",
              "    .colab-df-convert {\n",
              "      background-color: #E8F0FE;\n",
              "      border: none;\n",
              "      border-radius: 50%;\n",
              "      cursor: pointer;\n",
              "      display: none;\n",
              "      fill: #1967D2;\n",
              "      height: 32px;\n",
              "      padding: 0 0 0 0;\n",
              "      width: 32px;\n",
              "    }\n",
              "\n",
              "    .colab-df-convert:hover {\n",
              "      background-color: #E2EBFA;\n",
              "      box-shadow: 0px 1px 2px rgba(60, 64, 67, 0.3), 0px 1px 3px 1px rgba(60, 64, 67, 0.15);\n",
              "      fill: #174EA6;\n",
              "    }\n",
              "\n",
              "    .colab-df-buttons div {\n",
              "      margin-bottom: 4px;\n",
              "    }\n",
              "\n",
              "    [theme=dark] .colab-df-convert {\n",
              "      background-color: #3B4455;\n",
              "      fill: #D2E3FC;\n",
              "    }\n",
              "\n",
              "    [theme=dark] .colab-df-convert:hover {\n",
              "      background-color: #434B5C;\n",
              "      box-shadow: 0px 1px 3px 1px rgba(0, 0, 0, 0.15);\n",
              "      filter: drop-shadow(0px 1px 2px rgba(0, 0, 0, 0.3));\n",
              "      fill: #FFFFFF;\n",
              "    }\n",
              "  </style>\n",
              "\n",
              "    <script>\n",
              "      const buttonEl =\n",
              "        document.querySelector('#df-d21ef963-1e3e-4820-b029-26442a3fcb70 button.colab-df-convert');\n",
              "      buttonEl.style.display =\n",
              "        google.colab.kernel.accessAllowed ? 'block' : 'none';\n",
              "\n",
              "      async function convertToInteractive(key) {\n",
              "        const element = document.querySelector('#df-d21ef963-1e3e-4820-b029-26442a3fcb70');\n",
              "        const dataTable =\n",
              "          await google.colab.kernel.invokeFunction('convertToInteractive',\n",
              "                                                    [key], {});\n",
              "        if (!dataTable) return;\n",
              "\n",
              "        const docLinkHtml = 'Like what you see? Visit the ' +\n",
              "          '<a target=\"_blank\" href=https://colab.research.google.com/notebooks/data_table.ipynb>data table notebook</a>'\n",
              "          + ' to learn more about interactive tables.';\n",
              "        element.innerHTML = '';\n",
              "        dataTable['output_type'] = 'display_data';\n",
              "        await google.colab.output.renderOutput(dataTable, element);\n",
              "        const docLink = document.createElement('div');\n",
              "        docLink.innerHTML = docLinkHtml;\n",
              "        element.appendChild(docLink);\n",
              "      }\n",
              "    </script>\n",
              "  </div>\n",
              "\n",
              "\n",
              "    <div id=\"df-049fddf9-19a3-4904-a685-bee327cd91e5\">\n",
              "      <button class=\"colab-df-quickchart\" onclick=\"quickchart('df-049fddf9-19a3-4904-a685-bee327cd91e5')\"\n",
              "                title=\"Suggest charts\"\n",
              "                style=\"display:none;\">\n",
              "\n",
              "<svg xmlns=\"http://www.w3.org/2000/svg\" height=\"24px\"viewBox=\"0 0 24 24\"\n",
              "     width=\"24px\">\n",
              "    <g>\n",
              "        <path d=\"M19 3H5c-1.1 0-2 .9-2 2v14c0 1.1.9 2 2 2h14c1.1 0 2-.9 2-2V5c0-1.1-.9-2-2-2zM9 17H7v-7h2v7zm4 0h-2V7h2v10zm4 0h-2v-4h2v4z\"/>\n",
              "    </g>\n",
              "</svg>\n",
              "      </button>\n",
              "\n",
              "<style>\n",
              "  .colab-df-quickchart {\n",
              "      --bg-color: #E8F0FE;\n",
              "      --fill-color: #1967D2;\n",
              "      --hover-bg-color: #E2EBFA;\n",
              "      --hover-fill-color: #174EA6;\n",
              "      --disabled-fill-color: #AAA;\n",
              "      --disabled-bg-color: #DDD;\n",
              "  }\n",
              "\n",
              "  [theme=dark] .colab-df-quickchart {\n",
              "      --bg-color: #3B4455;\n",
              "      --fill-color: #D2E3FC;\n",
              "      --hover-bg-color: #434B5C;\n",
              "      --hover-fill-color: #FFFFFF;\n",
              "      --disabled-bg-color: #3B4455;\n",
              "      --disabled-fill-color: #666;\n",
              "  }\n",
              "\n",
              "  .colab-df-quickchart {\n",
              "    background-color: var(--bg-color);\n",
              "    border: none;\n",
              "    border-radius: 50%;\n",
              "    cursor: pointer;\n",
              "    display: none;\n",
              "    fill: var(--fill-color);\n",
              "    height: 32px;\n",
              "    padding: 0;\n",
              "    width: 32px;\n",
              "  }\n",
              "\n",
              "  .colab-df-quickchart:hover {\n",
              "    background-color: var(--hover-bg-color);\n",
              "    box-shadow: 0 1px 2px rgba(60, 64, 67, 0.3), 0 1px 3px 1px rgba(60, 64, 67, 0.15);\n",
              "    fill: var(--button-hover-fill-color);\n",
              "  }\n",
              "\n",
              "  .colab-df-quickchart-complete:disabled,\n",
              "  .colab-df-quickchart-complete:disabled:hover {\n",
              "    background-color: var(--disabled-bg-color);\n",
              "    fill: var(--disabled-fill-color);\n",
              "    box-shadow: none;\n",
              "  }\n",
              "\n",
              "  .colab-df-spinner {\n",
              "    border: 2px solid var(--fill-color);\n",
              "    border-color: transparent;\n",
              "    border-bottom-color: var(--fill-color);\n",
              "    animation:\n",
              "      spin 1s steps(1) infinite;\n",
              "  }\n",
              "\n",
              "  @keyframes spin {\n",
              "    0% {\n",
              "      border-color: transparent;\n",
              "      border-bottom-color: var(--fill-color);\n",
              "      border-left-color: var(--fill-color);\n",
              "    }\n",
              "    20% {\n",
              "      border-color: transparent;\n",
              "      border-left-color: var(--fill-color);\n",
              "      border-top-color: var(--fill-color);\n",
              "    }\n",
              "    30% {\n",
              "      border-color: transparent;\n",
              "      border-left-color: var(--fill-color);\n",
              "      border-top-color: var(--fill-color);\n",
              "      border-right-color: var(--fill-color);\n",
              "    }\n",
              "    40% {\n",
              "      border-color: transparent;\n",
              "      border-right-color: var(--fill-color);\n",
              "      border-top-color: var(--fill-color);\n",
              "    }\n",
              "    60% {\n",
              "      border-color: transparent;\n",
              "      border-right-color: var(--fill-color);\n",
              "    }\n",
              "    80% {\n",
              "      border-color: transparent;\n",
              "      border-right-color: var(--fill-color);\n",
              "      border-bottom-color: var(--fill-color);\n",
              "    }\n",
              "    90% {\n",
              "      border-color: transparent;\n",
              "      border-bottom-color: var(--fill-color);\n",
              "    }\n",
              "  }\n",
              "</style>\n",
              "\n",
              "      <script>\n",
              "        async function quickchart(key) {\n",
              "          const quickchartButtonEl =\n",
              "            document.querySelector('#' + key + ' button');\n",
              "          quickchartButtonEl.disabled = true;  // To prevent multiple clicks.\n",
              "          quickchartButtonEl.classList.add('colab-df-spinner');\n",
              "          try {\n",
              "            const charts = await google.colab.kernel.invokeFunction(\n",
              "                'suggestCharts', [key], {});\n",
              "          } catch (error) {\n",
              "            console.error('Error during call to suggestCharts:', error);\n",
              "          }\n",
              "          quickchartButtonEl.classList.remove('colab-df-spinner');\n",
              "          quickchartButtonEl.classList.add('colab-df-quickchart-complete');\n",
              "        }\n",
              "        (() => {\n",
              "          let quickchartButtonEl =\n",
              "            document.querySelector('#df-049fddf9-19a3-4904-a685-bee327cd91e5 button');\n",
              "          quickchartButtonEl.style.display =\n",
              "            google.colab.kernel.accessAllowed ? 'block' : 'none';\n",
              "        })();\n",
              "      </script>\n",
              "    </div>\n",
              "\n",
              "    </div>\n",
              "  </div>\n"
            ],
            "application/vnd.google.colaboratory.intrinsic+json": {
              "type": "dataframe"
            }
          },
          "metadata": {},
          "execution_count": 425
        }
      ],
      "source": [
        "flatt_DF.sample(5)"
      ]
    },
    {
      "cell_type": "code",
      "source": [
        "flatt_DF['account_Charges.Total']\n"
      ],
      "metadata": {
        "colab": {
          "base_uri": "https://localhost:8080/",
          "height": 458
        },
        "id": "rMlQh4P__iWg",
        "outputId": "3da145cd-9d80-4752-d0ce-68adfce06c93"
      },
      "execution_count": 426,
      "outputs": [
        {
          "output_type": "execute_result",
          "data": {
            "text/plain": [
              "0         593.3\n",
              "1         542.4\n",
              "2        280.85\n",
              "3       1237.85\n",
              "4         267.4\n",
              "         ...   \n",
              "7262      742.9\n",
              "7263     1873.7\n",
              "7264      92.75\n",
              "7265    4627.65\n",
              "7266     3707.6\n",
              "Name: account_Charges.Total, Length: 7267, dtype: object"
            ],
            "text/html": [
              "<div>\n",
              "<style scoped>\n",
              "    .dataframe tbody tr th:only-of-type {\n",
              "        vertical-align: middle;\n",
              "    }\n",
              "\n",
              "    .dataframe tbody tr th {\n",
              "        vertical-align: top;\n",
              "    }\n",
              "\n",
              "    .dataframe thead th {\n",
              "        text-align: right;\n",
              "    }\n",
              "</style>\n",
              "<table border=\"1\" class=\"dataframe\">\n",
              "  <thead>\n",
              "    <tr style=\"text-align: right;\">\n",
              "      <th></th>\n",
              "      <th>account_Charges.Total</th>\n",
              "    </tr>\n",
              "  </thead>\n",
              "  <tbody>\n",
              "    <tr>\n",
              "      <th>0</th>\n",
              "      <td>593.3</td>\n",
              "    </tr>\n",
              "    <tr>\n",
              "      <th>1</th>\n",
              "      <td>542.4</td>\n",
              "    </tr>\n",
              "    <tr>\n",
              "      <th>2</th>\n",
              "      <td>280.85</td>\n",
              "    </tr>\n",
              "    <tr>\n",
              "      <th>3</th>\n",
              "      <td>1237.85</td>\n",
              "    </tr>\n",
              "    <tr>\n",
              "      <th>4</th>\n",
              "      <td>267.4</td>\n",
              "    </tr>\n",
              "    <tr>\n",
              "      <th>...</th>\n",
              "      <td>...</td>\n",
              "    </tr>\n",
              "    <tr>\n",
              "      <th>7262</th>\n",
              "      <td>742.9</td>\n",
              "    </tr>\n",
              "    <tr>\n",
              "      <th>7263</th>\n",
              "      <td>1873.7</td>\n",
              "    </tr>\n",
              "    <tr>\n",
              "      <th>7264</th>\n",
              "      <td>92.75</td>\n",
              "    </tr>\n",
              "    <tr>\n",
              "      <th>7265</th>\n",
              "      <td>4627.65</td>\n",
              "    </tr>\n",
              "    <tr>\n",
              "      <th>7266</th>\n",
              "      <td>3707.6</td>\n",
              "    </tr>\n",
              "  </tbody>\n",
              "</table>\n",
              "<p>7267 rows × 1 columns</p>\n",
              "</div><br><label><b>dtype:</b> object</label>"
            ]
          },
          "metadata": {},
          "execution_count": 426
        }
      ]
    },
    {
      "cell_type": "markdown",
      "metadata": {
        "id": "v-WzfSvTmaw9"
      },
      "source": [
        "#📄Informe final"
      ]
    },
    {
      "cell_type": "code",
      "execution_count": 426,
      "metadata": {
        "id": "XMTac0YJmeK9"
      },
      "outputs": [],
      "source": []
    }
  ],
  "metadata": {
    "colab": {
      "provenance": [],
      "include_colab_link": true
    },
    "kernelspec": {
      "display_name": "Python 3",
      "name": "python3"
    },
    "language_info": {
      "name": "python",
      "version": "3.11.7"
    }
  },
  "nbformat": 4,
  "nbformat_minor": 0
}