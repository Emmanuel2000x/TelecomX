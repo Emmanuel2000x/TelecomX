{
  "cells": [
    {
      "cell_type": "markdown",
      "metadata": {
        "id": "view-in-github",
        "colab_type": "text"
      },
      "source": [
        "<a href=\"https://colab.research.google.com/github/Emmanuel2000x/TelecomX/blob/main/TelecomX_LATAM.ipynb\" target=\"_parent\"><img src=\"https://colab.research.google.com/assets/colab-badge.svg\" alt=\"Open In Colab\"/></a>"
      ]
    },
    {
      "cell_type": "markdown",
      "metadata": {
        "id": "4foVEKhrlqcH"
      },
      "source": [
        "#📌 Extracción"
      ]
    },
    {
      "cell_type": "code",
      "execution_count": 238,
      "metadata": {
        "id": "8sPJZHvMYITR"
      },
      "outputs": [],
      "source": [
        "#Se importan las librerias necesarias para el proyecto\n",
        "import pandas as pd\n",
        "import numpy as np\n",
        "import matplotlib.pyplot as plt"
      ]
    },
    {
      "cell_type": "code",
      "source": [
        "#Se le la URL del .json con la informacion que otorga la API\n",
        "url = \"https://raw.githubusercontent.com/ingridcristh/challenge2-data-science-LATAM/refs/heads/main/TelecomX_Data.json\"\n",
        "datos_json = pd.read_json(url)"
      ],
      "metadata": {
        "id": "lT090-gsY1Km"
      },
      "execution_count": 239,
      "outputs": []
    },
    {
      "cell_type": "code",
      "source": [
        "#El DF original cuenta 7267 registros con 6 columnas |customerID|Churn|customer|phone|internet |account|\n",
        "print(datos_json.shape)\n",
        "print(datos_json.head(5))"
      ],
      "metadata": {
        "colab": {
          "base_uri": "https://localhost:8080/"
        },
        "id": "jQhwOTk6aXmY",
        "outputId": "8f2e9d08-c8c6-4248-d6ed-cf7b8f792ccd"
      },
      "execution_count": 240,
      "outputs": [
        {
          "output_type": "stream",
          "name": "stdout",
          "text": [
            "(7267, 6)\n",
            "   customerID Churn                                           customer  \\\n",
            "0  0002-ORFBO    No  {'gender': 'Female', 'SeniorCitizen': 0, 'Part...   \n",
            "1  0003-MKNFE    No  {'gender': 'Male', 'SeniorCitizen': 0, 'Partne...   \n",
            "2  0004-TLHLJ   Yes  {'gender': 'Male', 'SeniorCitizen': 0, 'Partne...   \n",
            "3  0011-IGKFF   Yes  {'gender': 'Male', 'SeniorCitizen': 1, 'Partne...   \n",
            "4  0013-EXCHZ   Yes  {'gender': 'Female', 'SeniorCitizen': 1, 'Part...   \n",
            "\n",
            "                                             phone  \\\n",
            "0   {'PhoneService': 'Yes', 'MultipleLines': 'No'}   \n",
            "1  {'PhoneService': 'Yes', 'MultipleLines': 'Yes'}   \n",
            "2   {'PhoneService': 'Yes', 'MultipleLines': 'No'}   \n",
            "3   {'PhoneService': 'Yes', 'MultipleLines': 'No'}   \n",
            "4   {'PhoneService': 'Yes', 'MultipleLines': 'No'}   \n",
            "\n",
            "                                            internet  \\\n",
            "0  {'InternetService': 'DSL', 'OnlineSecurity': '...   \n",
            "1  {'InternetService': 'DSL', 'OnlineSecurity': '...   \n",
            "2  {'InternetService': 'Fiber optic', 'OnlineSecu...   \n",
            "3  {'InternetService': 'Fiber optic', 'OnlineSecu...   \n",
            "4  {'InternetService': 'Fiber optic', 'OnlineSecu...   \n",
            "\n",
            "                                             account  \n",
            "0  {'Contract': 'One year', 'PaperlessBilling': '...  \n",
            "1  {'Contract': 'Month-to-month', 'PaperlessBilli...  \n",
            "2  {'Contract': 'Month-to-month', 'PaperlessBilli...  \n",
            "3  {'Contract': 'Month-to-month', 'PaperlessBilli...  \n",
            "4  {'Contract': 'Month-to-month', 'PaperlessBilli...  \n"
          ]
        }
      ]
    },
    {
      "cell_type": "code",
      "source": [
        "#Creamos una funcion encargada de normalizar todas las columnas anidadas\n",
        "def normalize_nested_df(df: pd.DataFrame) -> pd.DataFrame:\n",
        "  \"\"\"\n",
        "  Normaliza de forma recursiva las columnas anidadas de un DF\n",
        "  Args:\n",
        "    df (pd.DataFrame): Input DataFrame with potential nested structures.\n",
        "  Returns:\n",
        "    pd.DataFrame: Fully normalized (flattened) DataFrame.\n",
        "  \"\"\"\n",
        "  df = df.copy()\n",
        "  new_columns = []\n",
        "  for col in df.columns:\n",
        "\n",
        "    if df[col].apply(lambda x: isinstance(x, dict)).any():\n",
        "      # Expand dictionaries into separate columns\n",
        "      expanded = pd.json_normalize(df[col]).add_prefix(f'{col}_')\n",
        "      df = df.drop(columns=[col])\n",
        "      df = pd.concat([df, expanded], axis=1)\n",
        "      return normalize_nested_df(df)  # Recursively normalize\n",
        "    else:\n",
        "      new_columns.append(col)\n",
        "\n",
        "  return df\n"
      ],
      "metadata": {
        "id": "6Cs_iNa6cHPY"
      },
      "execution_count": 241,
      "outputs": []
    },
    {
      "cell_type": "code",
      "source": [
        "#Normalizacion del DF utilizando la funcion creada\n",
        "flatt_DF = normalize_nested_df(datos_json)\n",
        "#Ahora tenemos 21 columnas y ninguna con info anidada\n",
        "print(flatt_DF.shape)\n",
        "print(flatt_DF.head(3))"
      ],
      "metadata": {
        "colab": {
          "base_uri": "https://localhost:8080/"
        },
        "id": "fOlbfTEjcTzr",
        "outputId": "fac1bdc7-f0d8-49ba-c10e-f100fb707bad"
      },
      "execution_count": 242,
      "outputs": [
        {
          "output_type": "stream",
          "name": "stdout",
          "text": [
            "(7267, 21)\n",
            "   customerID Churn customer_gender  customer_SeniorCitizen customer_Partner  \\\n",
            "0  0002-ORFBO    No          Female                       0              Yes   \n",
            "1  0003-MKNFE    No            Male                       0               No   \n",
            "2  0004-TLHLJ   Yes            Male                       0               No   \n",
            "\n",
            "  customer_Dependents  customer_tenure phone_PhoneService phone_MultipleLines  \\\n",
            "0                 Yes                9                Yes                  No   \n",
            "1                  No                9                Yes                 Yes   \n",
            "2                  No                4                Yes                  No   \n",
            "\n",
            "  internet_InternetService  ... internet_OnlineBackup  \\\n",
            "0                      DSL  ...                   Yes   \n",
            "1                      DSL  ...                    No   \n",
            "2              Fiber optic  ...                    No   \n",
            "\n",
            "  internet_DeviceProtection internet_TechSupport internet_StreamingTV  \\\n",
            "0                        No                  Yes                  Yes   \n",
            "1                        No                   No                   No   \n",
            "2                       Yes                   No                   No   \n",
            "\n",
            "  internet_StreamingMovies account_Contract account_PaperlessBilling  \\\n",
            "0                       No         One year                      Yes   \n",
            "1                      Yes   Month-to-month                       No   \n",
            "2                       No   Month-to-month                      Yes   \n",
            "\n",
            "  account_PaymentMethod account_Charges.Monthly  account_Charges.Total  \n",
            "0          Mailed check                    65.6                  593.3  \n",
            "1          Mailed check                    59.9                  542.4  \n",
            "2      Electronic check                    73.9                 280.85  \n",
            "\n",
            "[3 rows x 21 columns]\n"
          ]
        }
      ]
    },
    {
      "cell_type": "markdown",
      "source": [
        "##Lista de columnas y su clasificacion"
      ],
      "metadata": {
        "id": "UFNze0zhWakL"
      }
    },
    {
      "cell_type": "code",
      "source": [
        "#Lista que almacena las Variables/Columnas que contiene el DF\n",
        "Datos_dic = list(flatt_DF.columns)\n",
        "print(Datos_dic)"
      ],
      "metadata": {
        "colab": {
          "base_uri": "https://localhost:8080/"
        },
        "id": "9XL0nUhyoFfe",
        "outputId": "1d89c1e4-9e48-48b3-bccd-0f350fe932a5"
      },
      "execution_count": 243,
      "outputs": [
        {
          "output_type": "stream",
          "name": "stdout",
          "text": [
            "['customerID', 'Churn', 'customer_gender', 'customer_SeniorCitizen', 'customer_Partner', 'customer_Dependents', 'customer_tenure', 'phone_PhoneService', 'phone_MultipleLines', 'internet_InternetService', 'internet_OnlineSecurity', 'internet_OnlineBackup', 'internet_DeviceProtection', 'internet_TechSupport', 'internet_StreamingTV', 'internet_StreamingMovies', 'account_Contract', 'account_PaperlessBilling', 'account_PaymentMethod', 'account_Charges.Monthly', 'account_Charges.Total']\n"
          ]
        }
      ]
    },
    {
      "cell_type": "code",
      "source": [
        "#Clasificamos el tipo de dato de cada columna\n",
        "Col_Bol = ['Churn', 'customer_SeniorCitizen','customer_Partner',\n",
        "        'customer_Dependents','phone_PhoneService', 'phone_MultipleLines',\n",
        "        'internet_OnlineSecurity', 'internet_OnlineBackup','internet_DeviceProtection', 'internet_TechSupport',\n",
        "        'internet_StreamingTV', 'internet_StreamingMovies','account_PaperlessBilling']\n",
        "Col_Str = ['customerID','customer_gender', 'internet_InternetService',\n",
        "           'account_Contract','account_PaymentMethod']\n",
        "Col_Flo = ['account_Charges.Monthly', 'account_Charges.Total']\n",
        "Col_Int = ['customer_tenure']"
      ],
      "metadata": {
        "id": "ngQsdipTuKrW"
      },
      "execution_count": 244,
      "outputs": []
    },
    {
      "cell_type": "markdown",
      "metadata": {
        "id": "1lSZP8zmmGZu"
      },
      "source": [
        "#🔧 Transformación"
      ]
    },
    {
      "cell_type": "markdown",
      "source": [
        "## Conocemos el tipo de dato con el que viene cada columna\n"
      ],
      "metadata": {
        "id": "G40sTXNUrfIG"
      }
    },
    {
      "cell_type": "code",
      "execution_count": 245,
      "metadata": {
        "id": "bsm-WTLjmHvt",
        "colab": {
          "base_uri": "https://localhost:8080/"
        },
        "outputId": "a575b36c-96ce-4d1b-fcaf-f291d12c9606"
      },
      "outputs": [
        {
          "output_type": "stream",
          "name": "stdout",
          "text": [
            "<class 'pandas.core.frame.DataFrame'>\n",
            "RangeIndex: 7267 entries, 0 to 7266\n",
            "Data columns (total 21 columns):\n",
            " #   Column                     Non-Null Count  Dtype  \n",
            "---  ------                     --------------  -----  \n",
            " 0   customerID                 7267 non-null   object \n",
            " 1   Churn                      7267 non-null   object \n",
            " 2   customer_gender            7267 non-null   object \n",
            " 3   customer_SeniorCitizen     7267 non-null   int64  \n",
            " 4   customer_Partner           7267 non-null   object \n",
            " 5   customer_Dependents        7267 non-null   object \n",
            " 6   customer_tenure            7267 non-null   int64  \n",
            " 7   phone_PhoneService         7267 non-null   object \n",
            " 8   phone_MultipleLines        7267 non-null   object \n",
            " 9   internet_InternetService   7267 non-null   object \n",
            " 10  internet_OnlineSecurity    7267 non-null   object \n",
            " 11  internet_OnlineBackup      7267 non-null   object \n",
            " 12  internet_DeviceProtection  7267 non-null   object \n",
            " 13  internet_TechSupport       7267 non-null   object \n",
            " 14  internet_StreamingTV       7267 non-null   object \n",
            " 15  internet_StreamingMovies   7267 non-null   object \n",
            " 16  account_Contract           7267 non-null   object \n",
            " 17  account_PaperlessBilling   7267 non-null   object \n",
            " 18  account_PaymentMethod      7267 non-null   object \n",
            " 19  account_Charges.Monthly    7267 non-null   float64\n",
            " 20  account_Charges.Total      7267 non-null   object \n",
            "dtypes: float64(1), int64(2), object(18)\n",
            "memory usage: 1.2+ MB\n"
          ]
        }
      ],
      "source": [
        "#Exploramos las columnas del data set y verificamos los tipos de datos\n",
        "flatt_DF.info()"
      ]
    },
    {
      "cell_type": "code",
      "source": [
        "flatt_DF.dtypes"
      ],
      "metadata": {
        "colab": {
          "base_uri": "https://localhost:8080/",
          "height": 742
        },
        "id": "8R7kSuCyrUsk",
        "outputId": "a797b0f2-4561-4bac-d271-e80aa60d5d2d"
      },
      "execution_count": 246,
      "outputs": [
        {
          "output_type": "execute_result",
          "data": {
            "text/plain": [
              "customerID                    object\n",
              "Churn                         object\n",
              "customer_gender               object\n",
              "customer_SeniorCitizen         int64\n",
              "customer_Partner              object\n",
              "customer_Dependents           object\n",
              "customer_tenure                int64\n",
              "phone_PhoneService            object\n",
              "phone_MultipleLines           object\n",
              "internet_InternetService      object\n",
              "internet_OnlineSecurity       object\n",
              "internet_OnlineBackup         object\n",
              "internet_DeviceProtection     object\n",
              "internet_TechSupport          object\n",
              "internet_StreamingTV          object\n",
              "internet_StreamingMovies      object\n",
              "account_Contract              object\n",
              "account_PaperlessBilling      object\n",
              "account_PaymentMethod         object\n",
              "account_Charges.Monthly      float64\n",
              "account_Charges.Total         object\n",
              "dtype: object"
            ],
            "text/html": [
              "<div>\n",
              "<style scoped>\n",
              "    .dataframe tbody tr th:only-of-type {\n",
              "        vertical-align: middle;\n",
              "    }\n",
              "\n",
              "    .dataframe tbody tr th {\n",
              "        vertical-align: top;\n",
              "    }\n",
              "\n",
              "    .dataframe thead th {\n",
              "        text-align: right;\n",
              "    }\n",
              "</style>\n",
              "<table border=\"1\" class=\"dataframe\">\n",
              "  <thead>\n",
              "    <tr style=\"text-align: right;\">\n",
              "      <th></th>\n",
              "      <th>0</th>\n",
              "    </tr>\n",
              "  </thead>\n",
              "  <tbody>\n",
              "    <tr>\n",
              "      <th>customerID</th>\n",
              "      <td>object</td>\n",
              "    </tr>\n",
              "    <tr>\n",
              "      <th>Churn</th>\n",
              "      <td>object</td>\n",
              "    </tr>\n",
              "    <tr>\n",
              "      <th>customer_gender</th>\n",
              "      <td>object</td>\n",
              "    </tr>\n",
              "    <tr>\n",
              "      <th>customer_SeniorCitizen</th>\n",
              "      <td>int64</td>\n",
              "    </tr>\n",
              "    <tr>\n",
              "      <th>customer_Partner</th>\n",
              "      <td>object</td>\n",
              "    </tr>\n",
              "    <tr>\n",
              "      <th>customer_Dependents</th>\n",
              "      <td>object</td>\n",
              "    </tr>\n",
              "    <tr>\n",
              "      <th>customer_tenure</th>\n",
              "      <td>int64</td>\n",
              "    </tr>\n",
              "    <tr>\n",
              "      <th>phone_PhoneService</th>\n",
              "      <td>object</td>\n",
              "    </tr>\n",
              "    <tr>\n",
              "      <th>phone_MultipleLines</th>\n",
              "      <td>object</td>\n",
              "    </tr>\n",
              "    <tr>\n",
              "      <th>internet_InternetService</th>\n",
              "      <td>object</td>\n",
              "    </tr>\n",
              "    <tr>\n",
              "      <th>internet_OnlineSecurity</th>\n",
              "      <td>object</td>\n",
              "    </tr>\n",
              "    <tr>\n",
              "      <th>internet_OnlineBackup</th>\n",
              "      <td>object</td>\n",
              "    </tr>\n",
              "    <tr>\n",
              "      <th>internet_DeviceProtection</th>\n",
              "      <td>object</td>\n",
              "    </tr>\n",
              "    <tr>\n",
              "      <th>internet_TechSupport</th>\n",
              "      <td>object</td>\n",
              "    </tr>\n",
              "    <tr>\n",
              "      <th>internet_StreamingTV</th>\n",
              "      <td>object</td>\n",
              "    </tr>\n",
              "    <tr>\n",
              "      <th>internet_StreamingMovies</th>\n",
              "      <td>object</td>\n",
              "    </tr>\n",
              "    <tr>\n",
              "      <th>account_Contract</th>\n",
              "      <td>object</td>\n",
              "    </tr>\n",
              "    <tr>\n",
              "      <th>account_PaperlessBilling</th>\n",
              "      <td>object</td>\n",
              "    </tr>\n",
              "    <tr>\n",
              "      <th>account_PaymentMethod</th>\n",
              "      <td>object</td>\n",
              "    </tr>\n",
              "    <tr>\n",
              "      <th>account_Charges.Monthly</th>\n",
              "      <td>float64</td>\n",
              "    </tr>\n",
              "    <tr>\n",
              "      <th>account_Charges.Total</th>\n",
              "      <td>object</td>\n",
              "    </tr>\n",
              "  </tbody>\n",
              "</table>\n",
              "</div><br><label><b>dtype:</b> object</label>"
            ]
          },
          "metadata": {},
          "execution_count": 246
        }
      ]
    },
    {
      "cell_type": "code",
      "source": [
        "#De origen el data set parece no contener errores nulos\n",
        "print(flatt_DF.isna().sum())"
      ],
      "metadata": {
        "colab": {
          "base_uri": "https://localhost:8080/"
        },
        "id": "zE12Wgz4tg_R",
        "outputId": "43d684c9-4735-411a-d23f-936a122d62dd"
      },
      "execution_count": 247,
      "outputs": [
        {
          "output_type": "stream",
          "name": "stdout",
          "text": [
            "customerID                   0\n",
            "Churn                        0\n",
            "customer_gender              0\n",
            "customer_SeniorCitizen       0\n",
            "customer_Partner             0\n",
            "customer_Dependents          0\n",
            "customer_tenure              0\n",
            "phone_PhoneService           0\n",
            "phone_MultipleLines          0\n",
            "internet_InternetService     0\n",
            "internet_OnlineSecurity      0\n",
            "internet_OnlineBackup        0\n",
            "internet_DeviceProtection    0\n",
            "internet_TechSupport         0\n",
            "internet_StreamingTV         0\n",
            "internet_StreamingMovies     0\n",
            "account_Contract             0\n",
            "account_PaperlessBilling     0\n",
            "account_PaymentMethod        0\n",
            "account_Charges.Monthly      0\n",
            "account_Charges.Total        0\n",
            "dtype: int64\n"
          ]
        }
      ]
    },
    {
      "cell_type": "code",
      "source": [
        "#Replace de especios en blanco (e.g., '', ' ', '  ') with NaN\n",
        "mod_DF = flatt_DF.replace(r'^\\s*$', np.nan, regex=True)\n",
        "#Lista de los indices donde hay valores NaN\n",
        "error_indices = mod_DF[mod_DF.isna().any(axis=1)].index.tolist()"
      ],
      "metadata": {
        "id": "ijjRWtG4qgcj"
      },
      "execution_count": 248,
      "outputs": []
    },
    {
      "cell_type": "code",
      "source": [
        "#Una vez transformados los datos detectamos lo siguiente\n",
        "print(mod_DF.isna().sum())\n",
        "print(f'Se encontraron {len(error_indices)} registros no validos,\\nRepresentan el {100*len(error_indices)/len(flatt_DF.index):.2f}% del total')"
      ],
      "metadata": {
        "colab": {
          "base_uri": "https://localhost:8080/"
        },
        "id": "kv2I5g6xsawW",
        "outputId": "fa7252e7-103f-48a7-8ed7-b208ce9d7d5a"
      },
      "execution_count": 249,
      "outputs": [
        {
          "output_type": "stream",
          "name": "stdout",
          "text": [
            "customerID                     0\n",
            "Churn                        224\n",
            "customer_gender                0\n",
            "customer_SeniorCitizen         0\n",
            "customer_Partner               0\n",
            "customer_Dependents            0\n",
            "customer_tenure                0\n",
            "phone_PhoneService             0\n",
            "phone_MultipleLines            0\n",
            "internet_InternetService       0\n",
            "internet_OnlineSecurity        0\n",
            "internet_OnlineBackup          0\n",
            "internet_DeviceProtection      0\n",
            "internet_TechSupport           0\n",
            "internet_StreamingTV           0\n",
            "internet_StreamingMovies       0\n",
            "account_Contract               0\n",
            "account_PaperlessBilling       0\n",
            "account_PaymentMethod          0\n",
            "account_Charges.Monthly        0\n",
            "account_Charges.Total         11\n",
            "dtype: int64\n",
            "Se encontraron 235 registros no validos,\n",
            "Representan el 3.23% del total\n"
          ]
        }
      ]
    },
    {
      "cell_type": "markdown",
      "source": [
        "##Eliminado de registros sin info"
      ],
      "metadata": {
        "id": "QzSAp1XvoDG1"
      }
    },
    {
      "cell_type": "code",
      "source": [
        "\"\"\"\n",
        "Dado que representan poca cantidad seran eliminados los registros\n",
        "creando un nuevo data frame el cual contendra la transformacion\n",
        "de la informacion\n",
        "\"\"\"\n",
        "mod_DF.dropna(inplace=True)\n",
        "mod_DF.reset_index(drop=True,inplace=True)\n",
        "print(mod_DF.shape)"
      ],
      "metadata": {
        "colab": {
          "base_uri": "https://localhost:8080/"
        },
        "id": "kEcdJptUqWju",
        "outputId": "caed1b49-dba6-4f57-b178-a500666cb359"
      },
      "execution_count": 250,
      "outputs": [
        {
          "output_type": "stream",
          "name": "stdout",
          "text": [
            "(7032, 21)\n"
          ]
        }
      ]
    },
    {
      "cell_type": "code",
      "source": [
        "#Comprobacion de la columna customerID\n",
        "#Aseguramos el formato de los ID\n",
        "mod_DF['customerID'] = mod_DF['customerID'].astype(str).str.upper()\n",
        "#Buscamos registros duplicados\n",
        "duplicados = mod_DF['customerID'].duplicated().any()\n",
        "if not duplicados:\n",
        "    print(\"No hay duplicados.\")\n",
        "else:\n",
        "    print(\"Hay duplicados.\")"
      ],
      "metadata": {
        "colab": {
          "base_uri": "https://localhost:8080/"
        },
        "id": "vuCZaAzxMBnp",
        "outputId": "846191e9-b06e-409b-cce9-7ec6f7af7a5c"
      },
      "execution_count": 251,
      "outputs": [
        {
          "output_type": "stream",
          "name": "stdout",
          "text": [
            "No hay duplicados.\n"
          ]
        }
      ]
    },
    {
      "cell_type": "code",
      "source": [
        "#Obvservamos los valores que contienen las otras columnas que no son numeros\n",
        "for col in Datos_dic[1:-2]:\n",
        "    print(f\"Valores en {col}:\")\n",
        "    print(mod_DF[col].astype(str).unique())"
      ],
      "metadata": {
        "colab": {
          "base_uri": "https://localhost:8080/"
        },
        "id": "C5qgY1FstsBM",
        "outputId": "f0eef9eb-70d2-4ecb-9b85-6c626d77ead1"
      },
      "execution_count": 252,
      "outputs": [
        {
          "output_type": "stream",
          "name": "stdout",
          "text": [
            "Valores en Churn:\n",
            "['No' 'Yes']\n",
            "Valores en customer_gender:\n",
            "['Female' 'Male']\n",
            "Valores en customer_SeniorCitizen:\n",
            "['0' '1']\n",
            "Valores en customer_Partner:\n",
            "['Yes' 'No']\n",
            "Valores en customer_Dependents:\n",
            "['Yes' 'No']\n",
            "Valores en customer_tenure:\n",
            "['9' '4' '13' '3' '71' '63' '7' '65' '54' '72' '5' '56' '34' '1' '45' '50'\n",
            " '23' '55' '26' '69' '37' '49' '66' '67' '20' '43' '59' '12' '27' '2' '25'\n",
            " '29' '14' '35' '64' '39' '40' '11' '6' '30' '70' '57' '58' '16' '32' '33'\n",
            " '10' '21' '61' '15' '44' '22' '24' '19' '47' '62' '46' '52' '8' '60' '48'\n",
            " '28' '41' '53' '68' '31' '36' '17' '18' '51' '38' '42']\n",
            "Valores en phone_PhoneService:\n",
            "['Yes' 'No']\n",
            "Valores en phone_MultipleLines:\n",
            "['No' 'Yes' 'No phone service']\n",
            "Valores en internet_InternetService:\n",
            "['DSL' 'Fiber optic' 'No']\n",
            "Valores en internet_OnlineSecurity:\n",
            "['No' 'Yes' 'No internet service']\n",
            "Valores en internet_OnlineBackup:\n",
            "['Yes' 'No' 'No internet service']\n",
            "Valores en internet_DeviceProtection:\n",
            "['No' 'Yes' 'No internet service']\n",
            "Valores en internet_TechSupport:\n",
            "['Yes' 'No' 'No internet service']\n",
            "Valores en internet_StreamingTV:\n",
            "['Yes' 'No' 'No internet service']\n",
            "Valores en internet_StreamingMovies:\n",
            "['No' 'Yes' 'No internet service']\n",
            "Valores en account_Contract:\n",
            "['One year' 'Month-to-month' 'Two year']\n",
            "Valores en account_PaperlessBilling:\n",
            "['Yes' 'No']\n",
            "Valores en account_PaymentMethod:\n",
            "['Mailed check' 'Electronic check' 'Credit card (automatic)'\n",
            " 'Bank transfer (automatic)']\n"
          ]
        }
      ]
    },
    {
      "cell_type": "markdown",
      "source": [
        "Con el analisis anterior encontramos que en la columna Churn hay registros en blanco, ademas en las columnas de servicios se presenta el \"No\", \"No phone service\" y \"No internet service\""
      ],
      "metadata": {
        "id": "CGavz2b4UXNn"
      }
    },
    {
      "cell_type": "code",
      "source": [
        "#convirtiendo el tipo de dato a float\n",
        "mod_DF[Col_Flo] = mod_DF[Col_Flo].apply(pd.to_numeric, errors='coerce')"
      ],
      "metadata": {
        "id": "VA7noQJABJk8"
      },
      "execution_count": 253,
      "outputs": []
    },
    {
      "cell_type": "code",
      "source": [
        "#Reemplazamos \"Yes\" y \"No\" por 1 y 0\n",
        "mod_DF[Col_Bol] = mod_DF[Col_Bol].apply(lambda x: x.replace({\n",
        "    'No': '0', 'No internet service': '0', 'No phone service': '0'})\n",
        "    .replace('Yes','1'))\n",
        "#Cambiamos el tipo de dato a booleano\n",
        "mod_DF[Col_Bol] = mod_DF[Col_Bol].astype(int)#.astype(bool)"
      ],
      "metadata": {
        "id": "O78SeD7_9QQk"
      },
      "execution_count": 254,
      "outputs": []
    },
    {
      "cell_type": "code",
      "source": [
        "#Cambiamos el tipo de dato de las columnas de texto\n",
        "mod_DF[Col_Str] = mod_DF[Col_Str].astype('string')"
      ],
      "metadata": {
        "id": "2-OBKbA54Sws"
      },
      "execution_count": 255,
      "outputs": []
    },
    {
      "cell_type": "markdown",
      "source": [
        "##Columna de cuentas diarias"
      ],
      "metadata": {
        "id": "kSdvnqhPAs3q"
      }
    },
    {
      "cell_type": "code",
      "source": [
        "#Se crea la columna de cuentas diarias apartir del cargo mensual\n",
        "mod_DF['account_Charges.daily'] = (mod_DF['account_Charges.Monthly']/30).round(2)"
      ],
      "metadata": {
        "id": "quTv9XLfAsDt"
      },
      "execution_count": 256,
      "outputs": []
    },
    {
      "cell_type": "code",
      "source": [
        "#DF resultante de la transformacion\n",
        "mod_DF.info()"
      ],
      "metadata": {
        "colab": {
          "base_uri": "https://localhost:8080/"
        },
        "id": "S50letuGBShd",
        "outputId": "d60a1490-8c15-4739-be09-3b791a20e71f"
      },
      "execution_count": 257,
      "outputs": [
        {
          "output_type": "stream",
          "name": "stdout",
          "text": [
            "<class 'pandas.core.frame.DataFrame'>\n",
            "RangeIndex: 7032 entries, 0 to 7031\n",
            "Data columns (total 22 columns):\n",
            " #   Column                     Non-Null Count  Dtype  \n",
            "---  ------                     --------------  -----  \n",
            " 0   customerID                 7032 non-null   string \n",
            " 1   Churn                      7032 non-null   int64  \n",
            " 2   customer_gender            7032 non-null   string \n",
            " 3   customer_SeniorCitizen     7032 non-null   int64  \n",
            " 4   customer_Partner           7032 non-null   int64  \n",
            " 5   customer_Dependents        7032 non-null   int64  \n",
            " 6   customer_tenure            7032 non-null   int64  \n",
            " 7   phone_PhoneService         7032 non-null   int64  \n",
            " 8   phone_MultipleLines        7032 non-null   int64  \n",
            " 9   internet_InternetService   7032 non-null   string \n",
            " 10  internet_OnlineSecurity    7032 non-null   int64  \n",
            " 11  internet_OnlineBackup      7032 non-null   int64  \n",
            " 12  internet_DeviceProtection  7032 non-null   int64  \n",
            " 13  internet_TechSupport       7032 non-null   int64  \n",
            " 14  internet_StreamingTV       7032 non-null   int64  \n",
            " 15  internet_StreamingMovies   7032 non-null   int64  \n",
            " 16  account_Contract           7032 non-null   string \n",
            " 17  account_PaperlessBilling   7032 non-null   int64  \n",
            " 18  account_PaymentMethod      7032 non-null   string \n",
            " 19  account_Charges.Monthly    7032 non-null   float64\n",
            " 20  account_Charges.Total      7032 non-null   float64\n",
            " 21  account_Charges.daily      7032 non-null   float64\n",
            "dtypes: float64(3), int64(14), string(5)\n",
            "memory usage: 1.2 MB\n"
          ]
        }
      ]
    },
    {
      "cell_type": "code",
      "source": [],
      "metadata": {
        "id": "9dTP8IO_ID5D"
      },
      "execution_count": 257,
      "outputs": []
    },
    {
      "cell_type": "markdown",
      "metadata": {
        "id": "6XnTC2NTmMRL"
      },
      "source": [
        "#📊 Carga y análisis"
      ]
    },
    {
      "cell_type": "code",
      "execution_count": 258,
      "metadata": {
        "id": "1jgUnLqTmPdd",
        "colab": {
          "base_uri": "https://localhost:8080/"
        },
        "outputId": "46512904-04f2-47cc-ebdb-d67a95154e28"
      },
      "outputs": [
        {
          "output_type": "stream",
          "name": "stdout",
          "text": [
            "        customerID    Churn customer_gender  customer_SeniorCitizen  \\\n",
            "count         7032  7032.00            7032                 7032.00   \n",
            "unique        7032      NaN               2                     NaN   \n",
            "top     0015-UOCOJ      NaN            Male                     NaN   \n",
            "freq             1      NaN            3549                     NaN   \n",
            "mean           NaN     0.27             NaN                    0.16   \n",
            "std            NaN     0.44             NaN                    0.37   \n",
            "min            NaN     0.00             NaN                    0.00   \n",
            "25%            NaN     0.00             NaN                    0.00   \n",
            "50%            NaN     0.00             NaN                    0.00   \n",
            "75%            NaN     1.00             NaN                    0.00   \n",
            "max            NaN     1.00             NaN                    1.00   \n",
            "\n",
            "        customer_Partner  customer_Dependents  customer_tenure  \\\n",
            "count            7032.00              7032.00          7032.00   \n",
            "unique               NaN                  NaN              NaN   \n",
            "top                  NaN                  NaN              NaN   \n",
            "freq                 NaN                  NaN              NaN   \n",
            "mean                0.48                 0.30            32.42   \n",
            "std                 0.50                 0.46            24.55   \n",
            "min                 0.00                 0.00             1.00   \n",
            "25%                 0.00                 0.00             9.00   \n",
            "50%                 0.00                 0.00            29.00   \n",
            "75%                 1.00                 1.00            55.00   \n",
            "max                 1.00                 1.00            72.00   \n",
            "\n",
            "        phone_PhoneService  phone_MultipleLines internet_InternetService  ...  \\\n",
            "count               7032.0              7032.00                     7032  ...   \n",
            "unique                 NaN                  NaN                        3  ...   \n",
            "top                    NaN                  NaN              Fiber optic  ...   \n",
            "freq                   NaN                  NaN                     3096  ...   \n",
            "mean                   0.9                 0.42                      NaN  ...   \n",
            "std                    0.3                 0.49                      NaN  ...   \n",
            "min                    0.0                 0.00                      NaN  ...   \n",
            "25%                    1.0                 0.00                      NaN  ...   \n",
            "50%                    1.0                 0.00                      NaN  ...   \n",
            "75%                    1.0                 1.00                      NaN  ...   \n",
            "max                    1.0                 1.00                      NaN  ...   \n",
            "\n",
            "        internet_DeviceProtection  internet_TechSupport  internet_StreamingTV  \\\n",
            "count                     7032.00               7032.00               7032.00   \n",
            "unique                        NaN                   NaN                   NaN   \n",
            "top                           NaN                   NaN                   NaN   \n",
            "freq                          NaN                   NaN                   NaN   \n",
            "mean                         0.34                  0.29                  0.38   \n",
            "std                          0.48                  0.45                  0.49   \n",
            "min                          0.00                  0.00                  0.00   \n",
            "25%                          0.00                  0.00                  0.00   \n",
            "50%                          0.00                  0.00                  0.00   \n",
            "75%                          1.00                  1.00                  1.00   \n",
            "max                          1.00                  1.00                  1.00   \n",
            "\n",
            "        internet_StreamingMovies  account_Contract  account_PaperlessBilling  \\\n",
            "count                    7032.00              7032                   7032.00   \n",
            "unique                       NaN                 3                       NaN   \n",
            "top                          NaN    Month-to-month                       NaN   \n",
            "freq                         NaN              3875                       NaN   \n",
            "mean                        0.39               NaN                      0.59   \n",
            "std                         0.49               NaN                      0.49   \n",
            "min                         0.00               NaN                      0.00   \n",
            "25%                         0.00               NaN                      0.00   \n",
            "50%                         0.00               NaN                      1.00   \n",
            "75%                         1.00               NaN                      1.00   \n",
            "max                         1.00               NaN                      1.00   \n",
            "\n",
            "       account_PaymentMethod  account_Charges.Monthly account_Charges.Total  \\\n",
            "count                   7032                  7032.00               7032.00   \n",
            "unique                     4                      NaN                   NaN   \n",
            "top         Electronic check                      NaN                   NaN   \n",
            "freq                    2365                      NaN                   NaN   \n",
            "mean                     NaN                    64.80               2283.30   \n",
            "std                      NaN                    30.09               2266.77   \n",
            "min                      NaN                    18.25                 18.80   \n",
            "25%                      NaN                    35.59                401.45   \n",
            "50%                      NaN                    70.35               1397.48   \n",
            "75%                      NaN                    89.86               3794.74   \n",
            "max                      NaN                   118.75               8684.80   \n",
            "\n",
            "        account_Charges.daily  \n",
            "count                 7032.00  \n",
            "unique                    NaN  \n",
            "top                       NaN  \n",
            "freq                      NaN  \n",
            "mean                     2.16  \n",
            "std                      1.00  \n",
            "min                      0.61  \n",
            "25%                      1.19  \n",
            "50%                      2.34  \n",
            "75%                      2.99  \n",
            "max                      3.96  \n",
            "\n",
            "[11 rows x 22 columns]\n"
          ]
        }
      ],
      "source": [
        "print(mod_DF.describe(include='all').round(2))"
      ]
    },
    {
      "cell_type": "markdown",
      "source": [
        "##Distribucion de evasión"
      ],
      "metadata": {
        "id": "v8fJ6C-FKs4r"
      }
    },
    {
      "cell_type": "code",
      "source": [
        "\n",
        "total_churn = mod_DF['Churn'].value_counts()\n",
        "estados = ['Activas', 'Canceladas']\n",
        "plt.figure(figsize=(5,5))\n",
        "plt.pie(total_churn, labels=estados, autopct='%1.1f%%')\n",
        "plt.title('Comparativa cuentas Activas/Canceladas')\n",
        "plt.show()"
      ],
      "metadata": {
        "colab": {
          "base_uri": "https://localhost:8080/",
          "height": 444
        },
        "id": "7YxFJKU_N22l",
        "outputId": "0943507a-8c76-4ecd-c009-801bb888fcfb"
      },
      "execution_count": 259,
      "outputs": [
        {
          "output_type": "display_data",
          "data": {
            "text/plain": [
              "<Figure size 500x500 with 1 Axes>"
            ],
            "image/png": "[encoded data removed]"
          },
          "metadata": {}
        }
      ]
    },
    {
      "cell_type": "markdown",
      "source": [
        "##Recuento de evasión por variables categóricas"
      ],
      "metadata": {
        "id": "e16szkEnWz9I"
      }
    },
    {
      "cell_type": "code",
      "source": [
        "def categories_chart(df,categories:list):\n",
        "    n = len(categories)\n",
        "    cols = 2  # Numero de graficos por fila\n",
        "    rows = int((n+1)// cols)\n",
        "\n",
        "    fig, axs = plt.subplots(rows, cols, figsize=(cols * 5, rows * 4))\n",
        "    axs = axs.flatten()  # Se cambia a 1D para cambiar mas facil de grafica\n",
        "\n",
        "    for i, col in enumerate(categories):\n",
        "        counts = df[col].value_counts()\n",
        "        labels = ['Si' if val == 1 else 'No' if val == 0\n",
        "                  else str(val) for val in counts.index]\n",
        "        axs[i].pie(counts, labels=labels, autopct='%1.1f%%', startangle=90)\n",
        "        axs[i].set_title(f\"Distribucion de {col}\")\n",
        "        axs[i].axis('equal')\n",
        "\n",
        "    # Borra el espacio no usado\n",
        "    for j in range(i+1, len(axs)):\n",
        "        fig.delaxes(axs[j])\n",
        "\n",
        "    plt.tight_layout()\n",
        "    plt.show()"
      ],
      "metadata": {
        "id": "W_qz776BcYrK"
      },
      "execution_count": 262,
      "outputs": []
    },
    {
      "cell_type": "code",
      "source": [
        "categories_var = ['customer_gender', 'customer_SeniorCitizen', 'customer_Partner',\n",
        "                'customer_Dependents', 'account_Contract', 'account_PaymentMethod']\n",
        "\n",
        "categories_chart(mod_DF,categories_var)"
      ],
      "metadata": {
        "colab": {
          "base_uri": "https://localhost:8080/",
          "height": 722
        },
        "id": "n2o60nehWzdb",
        "outputId": "93a1d241-11a8-4c1e-f784-cb3b26c58324"
      },
      "execution_count": 263,
      "outputs": [
        {
          "output_type": "display_data",
          "data": {
            "text/plain": [
              "<Figure size 1000x1200 with 6 Axes>"
            ],
            "image/png": "[encoded data removed]"
          },
          "metadata": {}
        }
      ]
    },
    {
      "cell_type": "code",
      "source": [],
      "metadata": {
        "id": "ZBPFzqWjcWeW"
      },
      "execution_count": 261,
      "outputs": []
    },
    {
      "cell_type": "markdown",
      "metadata": {
        "id": "v-WzfSvTmaw9"
      },
      "source": [
        "#📄Informe final"
      ]
    },
    {
      "cell_type": "code",
      "execution_count": 261,
      "metadata": {
        "id": "XMTac0YJmeK9"
      },
      "outputs": [],
      "source": []
    }
  ],
  "metadata": {
    "colab": {
      "provenance": [],
      "include_colab_link": true
    },
    "kernelspec": {
      "display_name": "Python 3",
      "name": "python3"
    },
    "language_info": {
      "name": "python",
      "version": "3.11.7"
    }
  },
  "nbformat": 4,
  "nbformat_minor": 0
}